{
 "nbformat": 4,
 "nbformat_minor": 2,
 "metadata": {
  "language_info": {
   "name": "python",
   "codemirror_mode": {
    "name": "ipython",
    "version": 3
   }
  },
  "orig_nbformat": 2,
  "file_extension": ".py",
  "mimetype": "text/x-python",
  "name": "python",
  "npconvert_exporter": "python",
  "pygments_lexer": "ipython3",
  "version": 3
 },
 "cells": [
  {
   "cell_type": "markdown",
   "metadata": {},
   "source": [
    "# Introduction\n",
    "Image classification refers to a process in computer vision that classifies images according to its visual content e.g, an image classification algorithmn to indentify if an image contains a car or a truck."
   ]
  },
  {
   "cell_type": "markdown",
   "metadata": {},
   "source": [
    "This tutorial is our represents our hello world example and we will dive deeper as we proceed to other posts. You will learn how to develop models using TensorFlow 2.X, we will build a models using tf.keras.Sequatial and load data with tf.data api. "
   ]
  },
  {
   "cell_type": "markdown",
   "metadata": {},
   "source": [
    "# Tutorial Overview\n",
    "This tutorial is divided into seven parts namely;\n",
    "\n",
    "    1. Data Understanding.\n",
    "\n",
    "    2. Image visualization\n",
    "\n",
    "    3. Data Pipeline\n",
    "\n",
    "    4. Model Preparation\n",
    "\n",
    "    5. Model Training \n",
    "\n",
    "    6. Model Performance Analysis\n",
    "    \n",
    "    7. Model conversion"
   ]
  },
  {
   "cell_type": "code",
   "execution_count": null,
   "metadata": {},
   "outputs": [],
   "source": []
  }
 ]
}