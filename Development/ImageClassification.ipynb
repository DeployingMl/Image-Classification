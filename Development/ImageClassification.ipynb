{
 "nbformat": 4,
 "nbformat_minor": 2,
 "metadata": {
  "language_info": {
   "name": "python",
   "codemirror_mode": {
    "name": "ipython",
    "version": 3
   },
   "version": "3.7.4-final"
  },
  "orig_nbformat": 2,
  "file_extension": ".py",
  "mimetype": "text/x-python",
  "name": "python",
  "npconvert_exporter": "python",
  "pygments_lexer": "ipython3",
  "version": 3,
  "kernelspec": {
   "name": "python3",
   "display_name": "Python 3"
  }
 },
 "cells": [
  {
   "cell_type": "markdown",
   "metadata": {},
   "source": [
    "# Introduction"
   ]
  },
  {
   "cell_type": "markdown",
   "metadata": {},
   "source": [
    "Computer vision has gained traction in the recent years because of its state of the art performance in tasks such as image classification, object detection, speech recognition and more. It has found application in wide fields and in this tutorial we are going to handle basic image classification"
   ]
  },
  {
   "cell_type": "markdown",
   "metadata": {},
   "source": [
    "\n",
    "Image classification refers to a process in computer vision that classifies images according to its visual content e.g, an image classification algorithmn to indentify if an image contains a car or a truck."
   ]
  },
  {
   "cell_type": "markdown",
   "metadata": {},
   "source": [
    "This tutorial represents our hello world example and we will dive deeper as we proceed to other posts. You will learn how to develop models using TensorFlow 2.X, we will build a models using tf.keras.Sequatial and load data with tf.data api. \n",
    "\n",
    "The data used is the famous CIFAR-100 images but we will take a *home furniture* subclass."
   ]
  },
  {
   "cell_type": "markdown",
   "metadata": {},
   "source": [
    "# Tutorial Overview\n",
    "This tutorial is divided into seven parts namely;\n",
    "- Data Understanding\n",
    "- Image visualization\n",
    "- Data Pipeline\n",
    "- Model Preparation\n",
    "- Model Training \n",
    "- Model Performance Analysis\n",
    "- Model conversion\n",
    "\n",
    "Above represents the common procedure followed in a machine learning task. Without futher ado let's jump right in and start coding, enjoy."
   ]
  },
  {
   "cell_type": "markdown",
   "metadata": {},
   "source": [
    "# Handle Imports\n",
    "Let's start by importing the necessary packages we will be using. TensoFlow 2.X is our main package for developing the model, os will be used to read data from the disk, matplotlib for visualization and numpy to perform some mathematical computations."
   ]
  },
  {
   "cell_type": "code",
   "execution_count": 1,
   "metadata": {},
   "outputs": [],
   "source": [
    "import tensorflow as tf\n",
    "import numpy as mp\n",
    "import matplotlib.pyplot as plt\n",
    "import os"
   ]
  },
  {
   "cell_type": "code",
   "execution_count": null,
   "metadata": {},
   "outputs": [],
   "source": []
  }
 ]
}